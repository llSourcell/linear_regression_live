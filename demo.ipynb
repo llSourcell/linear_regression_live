{
 "cells": [
  {
   "cell_type": "code",
   "execution_count": 1,
   "metadata": {},
   "outputs": [],
   "source": [
    "# genfromtxt will read csv as array & mean will calculate average\n",
    "from numpy import genfromtxt, mean\n",
    "\n",
    "# using matplot for plotting a chart using existing and predected data sets\n",
    "from matplotlib.pyplot import plot, scatter, show"
   ]
  },
  {
   "cell_type": "code",
   "execution_count": 2,
   "metadata": {},
   "outputs": [],
   "source": [
    "# reading csv file as an array\n",
    "points = genfromtxt(\"data.csv\", delimiter=\",\")\n",
    "\n",
    "# initializing intercept and slope values as 0\n",
    "intercept, slope = 0, 0"
   ]
  },
  {
   "cell_type": "code",
   "execution_count": 3,
   "metadata": {},
   "outputs": [
    {
     "name": "stdout",
     "output_type": "stream",
     "text": [
      "\n",
      "Initial values :\n",
      "intercept = 0\n",
      "slope = 0\n",
      "error = 5565.107834490553\n"
     ]
    }
   ],
   "source": [
    "# printing initial output values one by one\n",
    "print(\"\\nInitial values :\")\n",
    "print(\"intercept =\", intercept)\n",
    "print(\"slope =\", slope)\n",
    "print(\"error =\", mean((points[:, 1] - (slope * points[:, 0] + intercept))**2))"
   ]
  },
  {
   "cell_type": "code",
   "execution_count": 4,
   "metadata": {},
   "outputs": [],
   "source": [
    "# itteration count to 10 times the length of data set\n",
    "num_iterations = len(points) * 10\n",
    "\n",
    "# learning rate to 100th of data set size\n",
    "learning_rate = 1 / (num_iterations * 10)"
   ]
  },
  {
   "cell_type": "code",
   "execution_count": 5,
   "metadata": {},
   "outputs": [],
   "source": [
    "# running the loop for 10x the length of data to generate accurate slope and intercept\n",
    "for i in range(num_iterations):\n",
    "    # calculating average change in values when compared with predected and actual values\n",
    "    avg_change = mean(2 / len(points) * (points[:, 1] -\n",
    "                                         (slope * points[:, 0]) + intercept))\n",
    "\n",
    "    # using that average change to adjust intercept\n",
    "    intercept += avg_change * learning_rate\n",
    "\n",
    "    # using that average change to adjust slope\n",
    "    slope += (avg_change * sum(points[:, 0])) * learning_rate"
   ]
  },
  {
   "cell_type": "code",
   "execution_count": 6,
   "metadata": {},
   "outputs": [
    {
     "name": "stdout",
     "output_type": "stream",
     "text": [
      "\n",
      "Values After 1000  itterations :\n",
      "intercept = 0.00030345350835250866\n",
      "slope = 1.4856580479642598\n",
      "error = 3.683361269135437e-07\n"
     ]
    }
   ],
   "source": [
    "# printing final output values one by one\n",
    "print(\"\\nValues After\", num_iterations, \" itterations :\")\n",
    "print(\"intercept =\", intercept)\n",
    "print(\"slope =\", slope)\n",
    "print(\"error =\", mean(points[:, 1] - (slope * points[:, 0] + intercept))**2)"
   ]
  },
  {
   "cell_type": "code",
   "execution_count": 7,
   "metadata": {},
   "outputs": [
    {
     "data": {
      "image/png": "[encoded data removed]",
      "text/plain": [
       "<Figure size 432x288 with 1 Axes>"
      ]
     },
     "metadata": {},
     "output_type": "display_data"
    }
   ],
   "source": [
    "# plotting a dotter-graph using existing data set\n",
    "scatter(points[:, 0], points[:, 1])\n",
    "\n",
    "# plotting a line-graph using predicted data set\n",
    "plot(points[:, 0], slope * points[:, 0] + intercept)\n",
    "\n",
    "# showing the plotted graph\n",
    "show()"
   ]
  }
 ],
 "metadata": {
  "kernelspec": {
   "display_name": "Python 3",
   "language": "python",
   "name": "python3"
  },
  "language_info": {
   "codemirror_mode": {
    "name": "ipython",
    "version": 3
   },
   "file_extension": ".py",
   "mimetype": "text/x-python",
   "name": "python",
   "nbconvert_exporter": "python",
   "pygments_lexer": "ipython3",
   "version": "3.6.5"
  }
 },
 "nbformat": 4,
 "nbformat_minor": 2
}
